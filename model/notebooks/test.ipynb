{
 "cells": [
  {
   "cell_type": "markdown",
   "metadata": {},
   "source": [
    "How to use the dataset (can delete this later): "
   ]
  },
  {
   "cell_type": "code",
   "execution_count": 15,
   "metadata": {},
   "outputs": [
    {
     "data": {
      "text/html": [
       "<div>\n",
       "<style scoped>\n",
       "    .dataframe tbody tr th:only-of-type {\n",
       "        vertical-align: middle;\n",
       "    }\n",
       "\n",
       "    .dataframe tbody tr th {\n",
       "        vertical-align: top;\n",
       "    }\n",
       "\n",
       "    .dataframe thead th {\n",
       "        text-align: right;\n",
       "    }\n",
       "</style>\n",
       "<table border=\"1\" class=\"dataframe\">\n",
       "  <thead>\n",
       "    <tr style=\"text-align: right;\">\n",
       "      <th></th>\n",
       "      <th>tweet_id</th>\n",
       "      <th>tweet_text</th>\n",
       "      <th>class_label</th>\n",
       "      <th>event_type</th>\n",
       "      <th>specific_event_name</th>\n",
       "    </tr>\n",
       "  </thead>\n",
       "  <tbody>\n",
       "    <tr>\n",
       "      <th>0</th>\n",
       "      <td>798064896545996801</td>\n",
       "      <td>I feel a little uneasy about the idea of work ...</td>\n",
       "      <td>other_relevant_information</td>\n",
       "      <td>earthquake</td>\n",
       "      <td>kaikoura_earthquake_2016</td>\n",
       "    </tr>\n",
       "    <tr>\n",
       "      <th>1</th>\n",
       "      <td>797913886527602688</td>\n",
       "      <td>#eqnz Interislander ferry docking aborted afte...</td>\n",
       "      <td>caution_and_advice</td>\n",
       "      <td>earthquake</td>\n",
       "      <td>kaikoura_earthquake_2016</td>\n",
       "    </tr>\n",
       "    <tr>\n",
       "      <th>2</th>\n",
       "      <td>797867944546025472</td>\n",
       "      <td>Much of New Zealand felt the earthquake after ...</td>\n",
       "      <td>other_relevant_information</td>\n",
       "      <td>earthquake</td>\n",
       "      <td>kaikoura_earthquake_2016</td>\n",
       "    </tr>\n",
       "    <tr>\n",
       "      <th>3</th>\n",
       "      <td>797958935126773760</td>\n",
       "      <td>Noticing a lot of aftershocks on eqnz site, bu...</td>\n",
       "      <td>sympathy_and_support</td>\n",
       "      <td>earthquake</td>\n",
       "      <td>kaikoura_earthquake_2016</td>\n",
       "    </tr>\n",
       "    <tr>\n",
       "      <th>4</th>\n",
       "      <td>797813020567056386</td>\n",
       "      <td>RT @E2NZ: Mike Clements, NZ police, says obvio...</td>\n",
       "      <td>infrastructure_and_utility_damage</td>\n",
       "      <td>earthquake</td>\n",
       "      <td>kaikoura_earthquake_2016</td>\n",
       "    </tr>\n",
       "  </tbody>\n",
       "</table>\n",
       "</div>"
      ],
      "text/plain": [
       "             tweet_id                                         tweet_text  \\\n",
       "0  798064896545996801  I feel a little uneasy about the idea of work ...   \n",
       "1  797913886527602688  #eqnz Interislander ferry docking aborted afte...   \n",
       "2  797867944546025472  Much of New Zealand felt the earthquake after ...   \n",
       "3  797958935126773760  Noticing a lot of aftershocks on eqnz site, bu...   \n",
       "4  797813020567056386  RT @E2NZ: Mike Clements, NZ police, says obvio...   \n",
       "\n",
       "                         class_label  event_type       specific_event_name  \n",
       "0         other_relevant_information  earthquake  kaikoura_earthquake_2016  \n",
       "1                 caution_and_advice  earthquake  kaikoura_earthquake_2016  \n",
       "2         other_relevant_information  earthquake  kaikoura_earthquake_2016  \n",
       "3               sympathy_and_support  earthquake  kaikoura_earthquake_2016  \n",
       "4  infrastructure_and_utility_damage  earthquake  kaikoura_earthquake_2016  "
      ]
     },
     "execution_count": 15,
     "metadata": {},
     "output_type": "execute_result"
    }
   ],
   "source": [
    "import pandas as pd\n",
    "\n",
    "df = pd.read_csv('../../data/combined_train.tsv', sep=\"\\t\")\n",
    "df.head()"
   ]
  }
 ],
 "metadata": {
  "kernelspec": {
   "display_name": "Python 3",
   "language": "python",
   "name": "python3"
  },
  "language_info": {
   "codemirror_mode": {
    "name": "ipython",
    "version": 3
   },
   "file_extension": ".py",
   "mimetype": "text/x-python",
   "name": "python",
   "nbconvert_exporter": "python",
   "pygments_lexer": "ipython3",
   "version": "3.12.3"
  }
 },
 "nbformat": 4,
 "nbformat_minor": 2
}
